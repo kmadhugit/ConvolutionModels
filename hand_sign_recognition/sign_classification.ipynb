{
 "cells": [
  {
   "cell_type": "code",
   "execution_count": 1,
   "metadata": {},
   "outputs": [
    {
     "name": "stderr",
     "output_type": "stream",
     "text": [
      "Using TensorFlow backend.\n"
     ]
    }
   ],
   "source": [
    "import h5py\n",
    "from keras.utils import to_categorical\n",
    "from keras.layers import Input, Add, Dense, Activation, ZeroPadding2D, BatchNormalization, Flatten, Conv2D, AveragePooling2D, MaxPooling2D, GlobalMaxPooling2D\n",
    "from keras.models import Model\n",
    "\n",
    "import numpy as np\n",
    "from time import sleep\n",
    "import matplotlib.pyplot as plt\n",
    "%matplotlib inline"
   ]
  },
  {
   "cell_type": "code",
   "execution_count": 2,
   "metadata": {},
   "outputs": [],
   "source": [
    "class Corpus:\n",
    "    \"\"\"\n",
    "    m        = Number of Total Examples available in this corpus\n",
    "    XD,YD    = Decoded Feature, Label. Single dimension list of Strings.\n",
    "    XE,YE    = Encoded Feature, Label. Multi dimensional numpy array.\n",
    "    XD.shape = (m,Tx,Vx)\n",
    "    YD.shape = (m,Vx) i.e Tx = 1 for label. Multi input, one output vector.\n",
    "    \"\"\"\n",
    "    def __init__(self, train_dfile,test_dfile):\n",
    "        ds = h5py.File(train_dfile, \"r\")\n",
    "        self.X_train = ds['train_set_x'].value\n",
    "        self.y_train = ds['train_set_y'].value\n",
    "        self.classes = ds['list_classes'].value\n",
    "        self.num_classes = len(self.classes)\n",
    "        self.num_samples = self.X_train.shape[0]\n",
    "        ds = h5py.File(test_dfile, \"r\")\n",
    "        self.X_test = ds['test_set_x'].value\n",
    "        self.y_test = ds['test_set_y'].value\n",
    "        self.transform()\n",
    "        \n",
    "    def transform(self):\n",
    "        self.X_train = self.X_train/255\n",
    "        self.X_test  = self.X_test/255\n",
    "\n",
    "        self.y_train = to_categorical(self.y_train,num_classes=self.num_classes)\n",
    "        self.y_test  = to_categorical(self.y_test, num_classes=self.num_classes)\n",
    "\n",
    "    def __str__(self):\n",
    "        s = ''\n",
    "        s += 'X_train.shape = ' + str(self.X_train.shape) + '\\n'\n",
    "        s += 'y_train.shape = ' + str(self.y_train.shape) + '\\n'\n",
    "        s += 'X_test.shape  = ' + str(self.X_test.shape) + '\\n'\n",
    "        s += 'y_test.shape  = ' + str(self.y_test.shape) + '\\n'\n",
    "        s += 'Classes = '       + str(self.classes) + '\\n'\n",
    "        return s\n",
    "    \n",
    "    def show(self):\n",
    "        idx = np.random.randint(0,self.num_samples)\n",
    "        plt.imshow(self.X_train[idx])\n",
    "        print('value = ',np.argmax(self.y_train[idx]))\n",
    "        \n",
    "        \n",
    "\n",
    "        "
   ]
  },
  {
   "cell_type": "code",
   "execution_count": 3,
   "metadata": {},
   "outputs": [
    {
     "name": "stderr",
     "output_type": "stream",
     "text": [
      "/Users/madhukandasamy/miniconda3/envs/py3.6/lib/python3.6/site-packages/h5py/_hl/dataset.py:313: H5pyDeprecationWarning: dataset.value has been deprecated. Use dataset[()] instead.\n",
      "  \"Use dataset[()] instead.\", H5pyDeprecationWarning)\n"
     ]
    },
    {
     "name": "stdout",
     "output_type": "stream",
     "text": [
      "X_train.shape = (1080, 64, 64, 3)\n",
      "y_train.shape = (1080, 6)\n",
      "X_test.shape  = (120, 64, 64, 3)\n",
      "y_test.shape  = (120, 6)\n",
      "Classes = [0 1 2 3 4 5]\n",
      "\n",
      "value =  2\n"
     ]
    },
    {
     "data": {
      "image/png": "[encoded data removed]",
      "text/plain": [
       "<Figure size 432x288 with 1 Axes>"
      ]
     },
     "metadata": {
      "needs_background": "light"
     },
     "output_type": "display_data"
    }
   ],
   "source": [
    "crp = Corpus('data/train_signs.h5','data/test_signs.h5')\n",
    "print(crp)\n",
    "crp.show()"
   ]
  },
  {
   "cell_type": "markdown",
   "metadata": {},
   "source": [
    "## Model"
   ]
  },
  {
   "cell_type": "markdown",
   "metadata": {},
   "source": [
    "Lets build the following model: `CONV2D((4,4),f=8) -> RELU -> MAXPOOL(8,8 stride = (8,8), pad=same) -> CONV2D((2,2),f=16) -> RELU -> MAXPOOL((4,4),stride=(4,4),pad='same') -> FLATTEN -> FULLYCONNECTED`."
   ]
  },
  {
   "cell_type": "code",
   "execution_count": 4,
   "metadata": {},
   "outputs": [],
   "source": [
    "def build_model():\n",
    "    \n",
    "    X_input = Input(shape=(64,64,3))\n",
    "    \n",
    "    X = Conv2D(kernel_size = (4, 4), filters = 16, padding = 'same', name = 'conv_k4x4_f16')(X_input)\n",
    "    X = BatchNormalization(axis = 3, name = 'bn_conv1')(X)\n",
    "    X = Activation('relu',name='Relu1')(X)\n",
    "    X = MaxPooling2D((8, 8), strides=(8, 8),padding='same',name='k8x8_s8x8')(X)\n",
    "    \n",
    "    X = Conv2D(kernel_size = (2, 2), filters = 32, padding = 'same', name = 'conv_k2x2_f32')(X)\n",
    "    X = BatchNormalization(axis = 3, name = 'bn_conv2')(X)\n",
    "    X = Activation('relu',name='Relu2')(X)\n",
    "    X = MaxPooling2D((4, 4), strides=(4, 4),padding='same',name='k4x4_s4x4')(X)\n",
    "    \n",
    "    X = Flatten()(X)\n",
    "    X = Dense(crp.num_classes)(X)\n",
    "    X = Activation('softmax',name='Softmax')(X)\n",
    "    \n",
    "    model = Model(inputs=X_input, outputs=X)\n",
    "    return model"
   ]
  },
  {
   "cell_type": "code",
   "execution_count": 5,
   "metadata": {},
   "outputs": [
    {
     "name": "stderr",
     "output_type": "stream",
     "text": [
      "WARNING: Logging before flag parsing goes to stderr.\n",
      "W1120 14:39:24.363583 4550874560 deprecation_wrapper.py:119] From /Users/madhukandasamy/miniconda3/envs/py3.6/lib/python3.6/site-packages/keras/backend/tensorflow_backend.py:74: The name tf.get_default_graph is deprecated. Please use tf.compat.v1.get_default_graph instead.\n",
      "\n",
      "W1120 14:39:24.377502 4550874560 deprecation_wrapper.py:119] From /Users/madhukandasamy/miniconda3/envs/py3.6/lib/python3.6/site-packages/keras/backend/tensorflow_backend.py:517: The name tf.placeholder is deprecated. Please use tf.compat.v1.placeholder instead.\n",
      "\n",
      "W1120 14:39:24.380849 4550874560 deprecation_wrapper.py:119] From /Users/madhukandasamy/miniconda3/envs/py3.6/lib/python3.6/site-packages/keras/backend/tensorflow_backend.py:4138: The name tf.random_uniform is deprecated. Please use tf.random.uniform instead.\n",
      "\n",
      "W1120 14:39:24.424271 4550874560 deprecation_wrapper.py:119] From /Users/madhukandasamy/miniconda3/envs/py3.6/lib/python3.6/site-packages/keras/backend/tensorflow_backend.py:174: The name tf.get_default_session is deprecated. Please use tf.compat.v1.get_default_session instead.\n",
      "\n",
      "W1120 14:39:24.425605 4550874560 deprecation_wrapper.py:119] From /Users/madhukandasamy/miniconda3/envs/py3.6/lib/python3.6/site-packages/keras/backend/tensorflow_backend.py:181: The name tf.ConfigProto is deprecated. Please use tf.compat.v1.ConfigProto instead.\n",
      "\n",
      "W1120 14:39:24.462052 4550874560 deprecation_wrapper.py:119] From /Users/madhukandasamy/miniconda3/envs/py3.6/lib/python3.6/site-packages/keras/backend/tensorflow_backend.py:1834: The name tf.nn.fused_batch_norm is deprecated. Please use tf.compat.v1.nn.fused_batch_norm instead.\n",
      "\n",
      "W1120 14:39:24.571257 4550874560 deprecation_wrapper.py:119] From /Users/madhukandasamy/miniconda3/envs/py3.6/lib/python3.6/site-packages/keras/backend/tensorflow_backend.py:3976: The name tf.nn.max_pool is deprecated. Please use tf.nn.max_pool2d instead.\n",
      "\n"
     ]
    }
   ],
   "source": [
    "model = build_model()"
   ]
  },
  {
   "cell_type": "code",
   "execution_count": 6,
   "metadata": {},
   "outputs": [
    {
     "name": "stdout",
     "output_type": "stream",
     "text": [
      "_________________________________________________________________\n",
      "Layer (type)                 Output Shape              Param #   \n",
      "=================================================================\n",
      "input_1 (InputLayer)         (None, 64, 64, 3)         0         \n",
      "_________________________________________________________________\n",
      "conv_k4x4_f16 (Conv2D)       (None, 64, 64, 16)        784       \n",
      "_________________________________________________________________\n",
      "bn_conv1 (BatchNormalization (None, 64, 64, 16)        64        \n",
      "_________________________________________________________________\n",
      "Relu1 (Activation)           (None, 64, 64, 16)        0         \n",
      "_________________________________________________________________\n",
      "k8x8_s8x8 (MaxPooling2D)     (None, 8, 8, 16)          0         \n",
      "_________________________________________________________________\n",
      "conv_k2x2_f32 (Conv2D)       (None, 8, 8, 32)          2080      \n",
      "_________________________________________________________________\n",
      "bn_conv2 (BatchNormalization (None, 8, 8, 32)          128       \n",
      "_________________________________________________________________\n",
      "Relu2 (Activation)           (None, 8, 8, 32)          0         \n",
      "_________________________________________________________________\n",
      "k4x4_s4x4 (MaxPooling2D)     (None, 2, 2, 32)          0         \n",
      "_________________________________________________________________\n",
      "flatten_1 (Flatten)          (None, 128)               0         \n",
      "_________________________________________________________________\n",
      "dense_1 (Dense)              (None, 6)                 774       \n",
      "_________________________________________________________________\n",
      "Softmax (Activation)         (None, 6)                 0         \n",
      "=================================================================\n",
      "Total params: 3,830\n",
      "Trainable params: 3,734\n",
      "Non-trainable params: 96\n",
      "_________________________________________________________________\n"
     ]
    }
   ],
   "source": [
    "model.summary()"
   ]
  },
  {
   "cell_type": "code",
   "execution_count": 7,
   "metadata": {},
   "outputs": [
    {
     "name": "stderr",
     "output_type": "stream",
     "text": [
      "W1120 14:39:27.228111 4550874560 deprecation_wrapper.py:119] From /Users/madhukandasamy/miniconda3/envs/py3.6/lib/python3.6/site-packages/keras/optimizers.py:790: The name tf.train.Optimizer is deprecated. Please use tf.compat.v1.train.Optimizer instead.\n",
      "\n"
     ]
    }
   ],
   "source": [
    "model.compile(loss='categorical_crossentropy', optimizer='adam',metrics=['accuracy'])"
   ]
  },
  {
   "cell_type": "code",
   "execution_count": 8,
   "metadata": {},
   "outputs": [
    {
     "name": "stderr",
     "output_type": "stream",
     "text": [
      "W1120 14:39:29.554354 4550874560 deprecation.py:323] From /Users/madhukandasamy/miniconda3/envs/py3.6/lib/python3.6/site-packages/tensorflow/python/ops/math_grad.py:1250: add_dispatch_support.<locals>.wrapper (from tensorflow.python.ops.array_ops) is deprecated and will be removed in a future version.\n",
      "Instructions for updating:\n",
      "Use tf.where in 2.0, which has the same broadcast rule as np.where\n"
     ]
    },
    {
     "name": "stdout",
     "output_type": "stream",
     "text": [
      "Epoch 1/30\n",
      "1080/1080 [==============================] - 3s 3ms/step - loss: 1.9577 - acc: 0.2509\n",
      "Epoch 2/30\n",
      "1080/1080 [==============================] - 3s 2ms/step - loss: 1.4113 - acc: 0.4935\n",
      "Epoch 3/30\n",
      "1080/1080 [==============================] - 3s 2ms/step - loss: 1.2093 - acc: 0.6324\n",
      "Epoch 4/30\n",
      "1080/1080 [==============================] - 2s 2ms/step - loss: 1.0653 - acc: 0.7019\n",
      "Epoch 5/30\n",
      "1080/1080 [==============================] - 2s 2ms/step - loss: 0.9214 - acc: 0.7907\n",
      "Epoch 6/30\n",
      "1080/1080 [==============================] - 2s 2ms/step - loss: 0.8054 - acc: 0.7991\n",
      "Epoch 7/30\n",
      "1080/1080 [==============================] - 2s 2ms/step - loss: 0.7140 - acc: 0.8519\n",
      "Epoch 8/30\n",
      "1080/1080 [==============================] - 2s 2ms/step - loss: 0.6302 - acc: 0.8731\n",
      "Epoch 9/30\n",
      "1080/1080 [==============================] - 3s 2ms/step - loss: 0.5640 - acc: 0.8704\n",
      "Epoch 10/30\n",
      "1080/1080 [==============================] - 2s 2ms/step - loss: 0.5005 - acc: 0.8991\n",
      "Epoch 11/30\n",
      "1080/1080 [==============================] - 3s 2ms/step - loss: 0.4480 - acc: 0.9065\n",
      "Epoch 12/30\n",
      "1080/1080 [==============================] - 3s 2ms/step - loss: 0.4019 - acc: 0.9315\n",
      "Epoch 13/30\n",
      "1080/1080 [==============================] - 3s 2ms/step - loss: 0.3715 - acc: 0.9306\n",
      "Epoch 14/30\n",
      "1080/1080 [==============================] - 2s 2ms/step - loss: 0.3403 - acc: 0.9315\n",
      "Epoch 15/30\n",
      "1080/1080 [==============================] - 3s 2ms/step - loss: 0.3150 - acc: 0.9463\n",
      "Epoch 16/30\n",
      "1080/1080 [==============================] - 2s 2ms/step - loss: 0.2841 - acc: 0.9481\n",
      "Epoch 17/30\n",
      "1080/1080 [==============================] - 2s 2ms/step - loss: 0.2645 - acc: 0.9556\n",
      "Epoch 18/30\n",
      "1080/1080 [==============================] - 2s 2ms/step - loss: 0.2393 - acc: 0.9630\n",
      "Epoch 19/30\n",
      "1080/1080 [==============================] - 2s 2ms/step - loss: 0.2304 - acc: 0.9648\n",
      "Epoch 20/30\n",
      "1080/1080 [==============================] - 3s 2ms/step - loss: 0.2149 - acc: 0.9657\n",
      "Epoch 21/30\n",
      "1080/1080 [==============================] - 3s 2ms/step - loss: 0.1973 - acc: 0.9741\n",
      "Epoch 22/30\n",
      "1080/1080 [==============================] - 3s 2ms/step - loss: 0.1846 - acc: 0.9769\n",
      "Epoch 23/30\n",
      "1080/1080 [==============================] - 3s 2ms/step - loss: 0.1790 - acc: 0.9741\n",
      "Epoch 24/30\n",
      "1080/1080 [==============================] - 3s 2ms/step - loss: 0.1601 - acc: 0.9778\n",
      "Epoch 25/30\n",
      "1080/1080 [==============================] - 3s 2ms/step - loss: 0.1504 - acc: 0.9852\n",
      "Epoch 26/30\n",
      "1080/1080 [==============================] - 3s 2ms/step - loss: 0.1419 - acc: 0.9824\n",
      "Epoch 27/30\n",
      "1080/1080 [==============================] - 3s 3ms/step - loss: 0.1409 - acc: 0.9815\n",
      "Epoch 28/30\n",
      "1080/1080 [==============================] - 3s 2ms/step - loss: 0.1350 - acc: 0.9778\n",
      "Epoch 29/30\n",
      "1080/1080 [==============================] - 3s 2ms/step - loss: 0.1153 - acc: 0.9833\n",
      "Epoch 30/30\n",
      "1080/1080 [==============================] - 3s 3ms/step - loss: 0.1162 - acc: 0.9889\n"
     ]
    },
    {
     "data": {
      "text/plain": [
       "<keras.callbacks.History at 0xb3c96a2e8>"
      ]
     },
     "execution_count": 8,
     "metadata": {},
     "output_type": "execute_result"
    }
   ],
   "source": [
    "model.fit(crp.X_train,crp.y_train,epochs=30, batch_size=32)"
   ]
  },
  {
   "cell_type": "code",
   "execution_count": 9,
   "metadata": {},
   "outputs": [
    {
     "name": "stdout",
     "output_type": "stream",
     "text": [
      "120/120 [==============================] - 0s 1ms/step\n",
      "Loss = 0.9771373073259989\n",
      "Test Accuracy = 0.6583333373069763\n"
     ]
    }
   ],
   "source": [
    "preds = model.evaluate(crp.X_test, crp.y_test)\n",
    "print (\"Loss = \" + str(preds[0]))\n",
    "print (\"Test Accuracy = \" + str(preds[1]))"
   ]
  },
  {
   "cell_type": "code",
   "execution_count": null,
   "metadata": {
    "collapsed": true
   },
   "outputs": [],
   "source": []
  }
 ],
 "metadata": {
  "kernelspec": {
   "display_name": "Python 3",
   "language": "python",
   "name": "python3"
  },
  "language_info": {
   "codemirror_mode": {
    "name": "ipython",
    "version": 3
   },
   "file_extension": ".py",
   "mimetype": "text/x-python",
   "name": "python",
   "nbconvert_exporter": "python",
   "pygments_lexer": "ipython3",
   "version": "3.6.8"
  }
 },
 "nbformat": 4,
 "nbformat_minor": 2
}
